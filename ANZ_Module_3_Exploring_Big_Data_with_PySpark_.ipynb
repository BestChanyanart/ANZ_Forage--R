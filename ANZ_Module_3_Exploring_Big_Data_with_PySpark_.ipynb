{
  "nbformat": 4,
  "nbformat_minor": 0,
  "metadata": {
    "colab": {
      "name": "ANZ_Module_3_Exploring Big Data with PySpark .ipynb",
      "provenance": [],
      "authorship_tag": "ABX9TyOgv2nieXyQ+7yHG3THVZsv",
      "include_colab_link": true
    },
    "kernelspec": {
      "name": "python3",
      "display_name": "Python 3"
    },
    "language_info": {
      "name": "python"
    }
  },
  "cells": [
    {
      "cell_type": "markdown",
      "metadata": {
        "id": "view-in-github",
        "colab_type": "text"
      },
      "source": [
        "<a href=\"https://colab.research.google.com/github/BestChanyanart/ANZ_Forage--R/blob/main/ANZ_Module_3_Exploring_Big_Data_with_PySpark_.ipynb\" target=\"_parent\"><img src=\"https://colab.research.google.com/assets/colab-badge.svg\" alt=\"Open In Colab\"/></a>"
      ]
    },
    {
      "cell_type": "markdown",
      "source": [
        "# **Task 3 - Exploring Big Data**\n",
        "\n",
        "Take these steps to complete this task:\n",
        "\n",
        "    To perform the following transformation steps using the synthetic transaction file by using PySpark DataFrame. Output the results to a local file.\n",
        "    Project only the records where \n",
        "\n",
        "        > Status=authorized AND card_present_flag=0\n",
        "        > Split the long_lat and merchant_long_lat fields into long, lat and merch_long, merch_lat fields\n",
        "        > Output the data as a CSV file\n"
      ],
      "metadata": {
        "id": "odq9LbvB6NxT"
      }
    },
    {
      "cell_type": "markdown",
      "source": [
        "## Install Spark and PySpark"
      ],
      "metadata": {
        "id": "YBRz_W2mm6bP"
      }
    },
    {
      "cell_type": "code",
      "execution_count": null,
      "metadata": {
        "id": "hJIyUHLdlKXe"
      },
      "outputs": [],
      "source": [
        "# Installing Spark \n",
        "\n",
        "!apt-get update                                                                          \n",
        "!apt-get install openjdk-8-jdk-headless -qq > /dev/null                                  \n",
        "!wget -q https://archive.apache.org/dist/spark/spark-3.1.2/spark-3.1.2-bin-hadoop2.7.tgz \n",
        "!tar xzvf spark-3.1.2-bin-hadoop2.7.tgz                                                  \n",
        "!pip install -q findspark==1.3.0    "
      ]
    },
    {
      "cell_type": "code",
      "source": [
        "# Set Environment Variable \n",
        "\n",
        "import os\n",
        "os.environ[\"JAVA_HOME\"] = \"/usr/lib/jvm/java-8-openjdk-amd64\"\n",
        "os.environ[\"SPARK_HOME\"] = \"/content/spark-3.1.2-bin-hadoop2.7\""
      ],
      "metadata": {
        "id": "ulml8lxEmRvM"
      },
      "execution_count": 2,
      "outputs": []
    },
    {
      "cell_type": "code",
      "source": [
        "# Install PySpark \n",
        "\n",
        "!pip install pyspark==3.1.2"
      ],
      "metadata": {
        "id": "yXBKqdoJmdy6",
        "colab": {
          "base_uri": "https://localhost:8080/"
        },
        "outputId": "2d730520-c099-4bf1-c4b2-a203c176c6c2"
      },
      "execution_count": 3,
      "outputs": [
        {
          "output_type": "stream",
          "name": "stdout",
          "text": [
            "Looking in indexes: https://pypi.org/simple, https://us-python.pkg.dev/colab-wheels/public/simple/\n",
            "Collecting pyspark==3.1.2\n",
            "  Downloading pyspark-3.1.2.tar.gz (212.4 MB)\n",
            "\u001b[K     |████████████████████████████████| 212.4 MB 73 kB/s \n",
            "\u001b[?25hCollecting py4j==0.10.9\n",
            "  Downloading py4j-0.10.9-py2.py3-none-any.whl (198 kB)\n",
            "\u001b[K     |████████████████████████████████| 198 kB 58.3 MB/s \n",
            "\u001b[?25hBuilding wheels for collected packages: pyspark\n",
            "  Building wheel for pyspark (setup.py) ... \u001b[?25l\u001b[?25hdone\n",
            "  Created wheel for pyspark: filename=pyspark-3.1.2-py2.py3-none-any.whl size=212880769 sha256=bc1f41f4bcb1ada18c0d3d93af7c1701a3cfbf0c8b8374af504c724d130aa1fe\n",
            "  Stored in directory: /root/.cache/pip/wheels/a5/0a/c1/9561f6fecb759579a7d863dcd846daaa95f598744e71b02c77\n",
            "Successfully built pyspark\n",
            "Installing collected packages: py4j, pyspark\n",
            "Successfully installed py4j-0.10.9 pyspark-3.1.2\n"
          ]
        }
      ]
    },
    {
      "cell_type": "code",
      "source": [
        "# Check CPU on google colab \n",
        "\n",
        "!cat /proc/cpuinfo"
      ],
      "metadata": {
        "id": "ImkWXgXGnU41"
      },
      "execution_count": null,
      "outputs": []
    },
    {
      "cell_type": "markdown",
      "source": [
        "## Download Data"
      ],
      "metadata": {
        "id": "FM7IYuz5nJId"
      }
    },
    {
      "cell_type": "code",
      "source": [
        "# Download Library \n",
        "\n",
        "import pandas as pd "
      ],
      "metadata": {
        "id": "BXMy_2jen0Pt"
      },
      "execution_count": 32,
      "outputs": []
    },
    {
      "cell_type": "code",
      "source": [
        "# Load the Drive Helper and mount\n",
        "\n",
        "from google.colab import drive\n",
        "drive.mount('/content/drive')"
      ],
      "metadata": {
        "colab": {
          "base_uri": "https://localhost:8080/"
        },
        "id": "l1f2juC-n46P",
        "outputId": "d2c7fdcd-6bd6-4d4e-ffcb-80c1e20a8e41"
      },
      "execution_count": 33,
      "outputs": [
        {
          "output_type": "stream",
          "name": "stdout",
          "text": [
            "Drive already mounted at /content/drive; to attempt to forcibly remount, call drive.mount(\"/content/drive\", force_remount=True).\n"
          ]
        }
      ]
    },
    {
      "cell_type": "code",
      "source": [
        "# define the path\n",
        "\n",
        "filePath = '/content/drive/MyDrive/ANZ Virtual Internship/Dataset/'"
      ],
      "metadata": {
        "id": "DPzznD8Sovg2"
      },
      "execution_count": 9,
      "outputs": []
    },
    {
      "cell_type": "code",
      "source": [
        "# Read Data \n",
        "\n",
        "f = filePath + 'ANZ synthesised transaction dataset.xlsx'\n",
        "data = pd.read_excel(f)\n",
        "\n",
        "data.head(2)"
      ],
      "metadata": {
        "colab": {
          "base_uri": "https://localhost:8080/",
          "height": 310
        },
        "id": "XylQLQwBppld",
        "outputId": "4e199c84-f2df-433d-aa1d-5889ff7218cc"
      },
      "execution_count": 34,
      "outputs": [
        {
          "output_type": "execute_result",
          "data": {
            "text/plain": [
              "       status  card_present_flag bpay_biller_code         account currency  \\\n",
              "0  authorized                1.0              NaN  ACC-1598451071      AUD   \n",
              "1  authorized                0.0              NaN  ACC-1598451071      AUD   \n",
              "\n",
              "        long_lat txn_description                           merchant_id  \\\n",
              "0  153.41 -27.95             POS  81c48296-73be-44a7-befa-d053f48ce7cd   \n",
              "1  153.41 -27.95       SALES-POS  830a451c-316e-4a6a-bf25-e37caedca49e   \n",
              "\n",
              "   merchant_code first_name  ...  age merchant_suburb merchant_state  \\\n",
              "0            NaN      Diana  ...   26         Ashmore            QLD   \n",
              "1            NaN      Diana  ...   26          Sydney            NSW   \n",
              "\n",
              "                     extraction amount                    transaction_id  \\\n",
              "0  2018-08-01T01:01:15.000+0000  16.25  a623070bfead4541a6b0fff8a09e706c   \n",
              "1  2018-08-01T01:13:45.000+0000  14.19  13270a2a902145da9db4c951e04b51b9   \n",
              "\n",
              "     country     customer_id merchant_long_lat movement  \n",
              "0  Australia  CUS-2487424745     153.38 -27.99    debit  \n",
              "1  Australia  CUS-2487424745     151.21 -33.87    debit  \n",
              "\n",
              "[2 rows x 23 columns]"
            ],
            "text/html": [
              "\n",
              "  <div id=\"df-eb046201-8a36-40c8-8a88-2d5d8eb7b6f1\">\n",
              "    <div class=\"colab-df-container\">\n",
              "      <div>\n",
              "<style scoped>\n",
              "    .dataframe tbody tr th:only-of-type {\n",
              "        vertical-align: middle;\n",
              "    }\n",
              "\n",
              "    .dataframe tbody tr th {\n",
              "        vertical-align: top;\n",
              "    }\n",
              "\n",
              "    .dataframe thead th {\n",
              "        text-align: right;\n",
              "    }\n",
              "</style>\n",
              "<table border=\"1\" class=\"dataframe\">\n",
              "  <thead>\n",
              "    <tr style=\"text-align: right;\">\n",
              "      <th></th>\n",
              "      <th>status</th>\n",
              "      <th>card_present_flag</th>\n",
              "      <th>bpay_biller_code</th>\n",
              "      <th>account</th>\n",
              "      <th>currency</th>\n",
              "      <th>long_lat</th>\n",
              "      <th>txn_description</th>\n",
              "      <th>merchant_id</th>\n",
              "      <th>merchant_code</th>\n",
              "      <th>first_name</th>\n",
              "      <th>...</th>\n",
              "      <th>age</th>\n",
              "      <th>merchant_suburb</th>\n",
              "      <th>merchant_state</th>\n",
              "      <th>extraction</th>\n",
              "      <th>amount</th>\n",
              "      <th>transaction_id</th>\n",
              "      <th>country</th>\n",
              "      <th>customer_id</th>\n",
              "      <th>merchant_long_lat</th>\n",
              "      <th>movement</th>\n",
              "    </tr>\n",
              "  </thead>\n",
              "  <tbody>\n",
              "    <tr>\n",
              "      <th>0</th>\n",
              "      <td>authorized</td>\n",
              "      <td>1.0</td>\n",
              "      <td>NaN</td>\n",
              "      <td>ACC-1598451071</td>\n",
              "      <td>AUD</td>\n",
              "      <td>153.41 -27.95</td>\n",
              "      <td>POS</td>\n",
              "      <td>81c48296-73be-44a7-befa-d053f48ce7cd</td>\n",
              "      <td>NaN</td>\n",
              "      <td>Diana</td>\n",
              "      <td>...</td>\n",
              "      <td>26</td>\n",
              "      <td>Ashmore</td>\n",
              "      <td>QLD</td>\n",
              "      <td>2018-08-01T01:01:15.000+0000</td>\n",
              "      <td>16.25</td>\n",
              "      <td>a623070bfead4541a6b0fff8a09e706c</td>\n",
              "      <td>Australia</td>\n",
              "      <td>CUS-2487424745</td>\n",
              "      <td>153.38 -27.99</td>\n",
              "      <td>debit</td>\n",
              "    </tr>\n",
              "    <tr>\n",
              "      <th>1</th>\n",
              "      <td>authorized</td>\n",
              "      <td>0.0</td>\n",
              "      <td>NaN</td>\n",
              "      <td>ACC-1598451071</td>\n",
              "      <td>AUD</td>\n",
              "      <td>153.41 -27.95</td>\n",
              "      <td>SALES-POS</td>\n",
              "      <td>830a451c-316e-4a6a-bf25-e37caedca49e</td>\n",
              "      <td>NaN</td>\n",
              "      <td>Diana</td>\n",
              "      <td>...</td>\n",
              "      <td>26</td>\n",
              "      <td>Sydney</td>\n",
              "      <td>NSW</td>\n",
              "      <td>2018-08-01T01:13:45.000+0000</td>\n",
              "      <td>14.19</td>\n",
              "      <td>13270a2a902145da9db4c951e04b51b9</td>\n",
              "      <td>Australia</td>\n",
              "      <td>CUS-2487424745</td>\n",
              "      <td>151.21 -33.87</td>\n",
              "      <td>debit</td>\n",
              "    </tr>\n",
              "  </tbody>\n",
              "</table>\n",
              "<p>2 rows × 23 columns</p>\n",
              "</div>\n",
              "      <button class=\"colab-df-convert\" onclick=\"convertToInteractive('df-eb046201-8a36-40c8-8a88-2d5d8eb7b6f1')\"\n",
              "              title=\"Convert this dataframe to an interactive table.\"\n",
              "              style=\"display:none;\">\n",
              "        \n",
              "  <svg xmlns=\"http://www.w3.org/2000/svg\" height=\"24px\"viewBox=\"0 0 24 24\"\n",
              "       width=\"24px\">\n",
              "    <path d=\"M0 0h24v24H0V0z\" fill=\"none\"/>\n",
              "    <path d=\"M18.56 5.44l.94 2.06.94-2.06 2.06-.94-2.06-.94-.94-2.06-.94 2.06-2.06.94zm-11 1L8.5 8.5l.94-2.06 2.06-.94-2.06-.94L8.5 2.5l-.94 2.06-2.06.94zm10 10l.94 2.06.94-2.06 2.06-.94-2.06-.94-.94-2.06-.94 2.06-2.06.94z\"/><path d=\"M17.41 7.96l-1.37-1.37c-.4-.4-.92-.59-1.43-.59-.52 0-1.04.2-1.43.59L10.3 9.45l-7.72 7.72c-.78.78-.78 2.05 0 2.83L4 21.41c.39.39.9.59 1.41.59.51 0 1.02-.2 1.41-.59l7.78-7.78 2.81-2.81c.8-.78.8-2.07 0-2.86zM5.41 20L4 18.59l7.72-7.72 1.47 1.35L5.41 20z\"/>\n",
              "  </svg>\n",
              "      </button>\n",
              "      \n",
              "  <style>\n",
              "    .colab-df-container {\n",
              "      display:flex;\n",
              "      flex-wrap:wrap;\n",
              "      gap: 12px;\n",
              "    }\n",
              "\n",
              "    .colab-df-convert {\n",
              "      background-color: #E8F0FE;\n",
              "      border: none;\n",
              "      border-radius: 50%;\n",
              "      cursor: pointer;\n",
              "      display: none;\n",
              "      fill: #1967D2;\n",
              "      height: 32px;\n",
              "      padding: 0 0 0 0;\n",
              "      width: 32px;\n",
              "    }\n",
              "\n",
              "    .colab-df-convert:hover {\n",
              "      background-color: #E2EBFA;\n",
              "      box-shadow: 0px 1px 2px rgba(60, 64, 67, 0.3), 0px 1px 3px 1px rgba(60, 64, 67, 0.15);\n",
              "      fill: #174EA6;\n",
              "    }\n",
              "\n",
              "    [theme=dark] .colab-df-convert {\n",
              "      background-color: #3B4455;\n",
              "      fill: #D2E3FC;\n",
              "    }\n",
              "\n",
              "    [theme=dark] .colab-df-convert:hover {\n",
              "      background-color: #434B5C;\n",
              "      box-shadow: 0px 1px 3px 1px rgba(0, 0, 0, 0.15);\n",
              "      filter: drop-shadow(0px 1px 2px rgba(0, 0, 0, 0.3));\n",
              "      fill: #FFFFFF;\n",
              "    }\n",
              "  </style>\n",
              "\n",
              "      <script>\n",
              "        const buttonEl =\n",
              "          document.querySelector('#df-eb046201-8a36-40c8-8a88-2d5d8eb7b6f1 button.colab-df-convert');\n",
              "        buttonEl.style.display =\n",
              "          google.colab.kernel.accessAllowed ? 'block' : 'none';\n",
              "\n",
              "        async function convertToInteractive(key) {\n",
              "          const element = document.querySelector('#df-eb046201-8a36-40c8-8a88-2d5d8eb7b6f1');\n",
              "          const dataTable =\n",
              "            await google.colab.kernel.invokeFunction('convertToInteractive',\n",
              "                                                     [key], {});\n",
              "          if (!dataTable) return;\n",
              "\n",
              "          const docLinkHtml = 'Like what you see? Visit the ' +\n",
              "            '<a target=\"_blank\" href=https://colab.research.google.com/notebooks/data_table.ipynb>data table notebook</a>'\n",
              "            + ' to learn more about interactive tables.';\n",
              "          element.innerHTML = '';\n",
              "          dataTable['output_type'] = 'display_data';\n",
              "          await google.colab.output.renderOutput(dataTable, element);\n",
              "          const docLink = document.createElement('div');\n",
              "          docLink.innerHTML = docLinkHtml;\n",
              "          element.appendChild(docLink);\n",
              "        }\n",
              "      </script>\n",
              "    </div>\n",
              "  </div>\n",
              "  "
            ]
          },
          "metadata": {},
          "execution_count": 34
        }
      ]
    },
    {
      "cell_type": "code",
      "source": [
        "data.isnull().sum()"
      ],
      "metadata": {
        "colab": {
          "base_uri": "https://localhost:8080/"
        },
        "id": "TPdrdS2yIrOa",
        "outputId": "246482d8-c4b7-4d24-f8c5-0ce6e96a59cf"
      },
      "execution_count": 35,
      "outputs": [
        {
          "output_type": "execute_result",
          "data": {
            "text/plain": [
              "status                   0\n",
              "card_present_flag     4326\n",
              "bpay_biller_code     11158\n",
              "account                  0\n",
              "currency                 0\n",
              "long_lat                 0\n",
              "txn_description          0\n",
              "merchant_id           4326\n",
              "merchant_code        11160\n",
              "first_name               0\n",
              "balance                  0\n",
              "date                     0\n",
              "gender                   0\n",
              "age                      0\n",
              "merchant_suburb       4326\n",
              "merchant_state        4326\n",
              "extraction               0\n",
              "amount                   0\n",
              "transaction_id           0\n",
              "country                  0\n",
              "customer_id              0\n",
              "merchant_long_lat     4326\n",
              "movement                 0\n",
              "dtype: int64"
            ]
          },
          "metadata": {},
          "execution_count": 35
        }
      ]
    },
    {
      "cell_type": "code",
      "source": [
        "data.columns"
      ],
      "metadata": {
        "colab": {
          "base_uri": "https://localhost:8080/"
        },
        "id": "Tln96Y7w7Qkt",
        "outputId": "7c9efeae-14ce-429f-b761-fd7768edc6d9"
      },
      "execution_count": 12,
      "outputs": [
        {
          "output_type": "execute_result",
          "data": {
            "text/plain": [
              "Index(['status', 'card_present_flag', 'bpay_biller_code', 'account',\n",
              "       'currency', 'long_lat', 'txn_description', 'merchant_id',\n",
              "       'merchant_code', 'first_name', 'balance', 'date', 'gender', 'age',\n",
              "       'merchant_suburb', 'merchant_state', 'extraction', 'amount',\n",
              "       'transaction_id', 'country', 'customer_id', 'merchant_long_lat',\n",
              "       'movement'],\n",
              "      dtype='object')"
            ]
          },
          "metadata": {},
          "execution_count": 12
        }
      ]
    },
    {
      "cell_type": "markdown",
      "source": [
        "## 1. Using PySpark "
      ],
      "metadata": {
        "id": "L5RvPGk0rRDx"
      }
    },
    {
      "cell_type": "markdown",
      "source": [
        "### 1.1 Initializing Spark Session"
      ],
      "metadata": {
        "id": "vcdylW27rnkW"
      }
    },
    {
      "cell_type": "code",
      "source": [
        "from pyspark.sql.types import *\n",
        "\n",
        "mySchema = StructType([ StructField(\"status\", StringType(), True)\\\n",
        "                       ,StructField(\"card_present_flag\", FloatType(), True)\\\n",
        "                       ,StructField(\"bpay_biller_code\", StringType(), True)\\\n",
        "                       ,StructField(\"account\", StringType(), True)\\\n",
        "                       ,StructField(\"currency\", StringType(), True)\\\n",
        "                       ,StructField(\"long_lat\", StringType(), True)\\\n",
        "                       ,StructField(\"txn_description\",  StringType(), True)\\\n",
        "                       ,StructField(\"merchant_id\", StringType(), True)\\\n",
        "                       ,StructField(\"merchant_code\", StringType(), True)\\\n",
        "                       ,StructField(\"first_name\", StringType(), True)\\\n",
        "                       ,StructField(\"balance\", FloatType(), True)\\\n",
        "                       ,StructField(\"date\", StringType(), True)\\\n",
        "                       ,StructField(\"gender\", StringType(), True)\\\n",
        "                       ,StructField(\"age\", IntegerType(), True)\\\n",
        "                       ,StructField(\"merchant_suburb\",  StringType(), True)\\\n",
        "                       ,StructField(\"merchant_state\",  StringType(), True)\\\n",
        "                       ,StructField(\"extraction\",  StringType(), True)\\\n",
        "                       ,StructField(\"amount\", FloatType(), True)\\\n",
        "                       ,StructField(\"transaction_id\",  StringType(), True)\\\n",
        "                       ,StructField(\"country\",  StringType(), True)\\\n",
        "                       ,StructField(\"customer_id\",  StringType(), True)\\\n",
        "                       ,StructField(\"merchant_long_lat\",  StringType(), True)\\\n",
        "                       ,StructField(\"movement\",  StringType(), True)])"
      ],
      "metadata": {
        "id": "CF2F89Vs83Bv"
      },
      "execution_count": 58,
      "outputs": []
    },
    {
      "cell_type": "code",
      "source": [
        "from pyspark.sql import SparkSession\n",
        "\n",
        "spark = SparkSession.builder.master(\"local[*]\").getOrCreate()"
      ],
      "metadata": {
        "id": "wn5fJZuYreqe"
      },
      "execution_count": 59,
      "outputs": []
    },
    {
      "cell_type": "code",
      "source": [
        "dt = spark.createDataFrame(data, schema=mySchema)\n",
        "dt.show(10)"
      ],
      "metadata": {
        "colab": {
          "base_uri": "https://localhost:8080/"
        },
        "id": "T8rPELsD6yeY",
        "outputId": "03379591-f021-4447-9eed-1b4a91ade237"
      },
      "execution_count": 60,
      "outputs": [
        {
          "output_type": "stream",
          "name": "stdout",
          "text": [
            "+----------+-----------------+----------------+--------------+--------+-------------+---------------+--------------------+-------------+----------+-------+--------------------+------+---+---------------+--------------+--------------------+------+--------------------+---------+--------------+-----------------+--------+\n",
            "|    status|card_present_flag|bpay_biller_code|       account|currency|     long_lat|txn_description|         merchant_id|merchant_code|first_name|balance|                date|gender|age|merchant_suburb|merchant_state|          extraction|amount|      transaction_id|  country|   customer_id|merchant_long_lat|movement|\n",
            "+----------+-----------------+----------------+--------------+--------+-------------+---------------+--------------------+-------------+----------+-------+--------------------+------+---+---------------+--------------+--------------------+------+--------------------+---------+--------------+-----------------+--------+\n",
            "|authorized|              1.0|             NaN|ACC-1598451071|     AUD|153.41 -27.95|            POS|81c48296-73be-44a...|          NaN|     Diana|  35.39|java.util.Gregori...|     F| 26|        Ashmore|           QLD|2018-08-01T01:01:...| 16.25|a623070bfead4541a...|Australia|CUS-2487424745|    153.38 -27.99|   debit|\n",
            "|authorized|              0.0|             NaN|ACC-1598451071|     AUD|153.41 -27.95|      SALES-POS|830a451c-316e-4a6...|          NaN|     Diana|   21.2|java.util.Gregori...|     F| 26|         Sydney|           NSW|2018-08-01T01:13:...| 14.19|13270a2a902145da9...|Australia|CUS-2487424745|    151.21 -33.87|   debit|\n",
            "|authorized|              1.0|             NaN|ACC-1222300524|     AUD|151.23 -33.94|            POS|835c231d-8cdf-4e9...|          NaN|   Michael|   5.71|java.util.Gregori...|     M| 38|         Sydney|           NSW|2018-08-01T01:26:...|  6.42|feb79e7ecd7048a5a...|Australia|CUS-2142601169|    151.21 -33.87|   debit|\n",
            "|authorized|              1.0|             NaN|ACC-1037050564|     AUD|153.10 -27.66|      SALES-POS|48514682-c78a-4a8...|          NaN|    Rhonda|2117.22|java.util.Gregori...|     F| 40|        Buderim|           QLD|2018-08-01T01:38:...|  40.9|2698170da3704fd98...|Australia|CUS-1614226872|    153.05 -26.68|   debit|\n",
            "|authorized|              1.0|             NaN|ACC-1598451071|     AUD|153.41 -27.95|      SALES-POS|b4e02c10-0852-427...|          NaN|     Diana|  17.95|java.util.Gregori...|     F| 26|  Mermaid Beach|           QLD|2018-08-01T01:51:...|  3.25|329adf79878c4cf0a...|Australia|CUS-2487424745|    153.44 -28.06|   debit|\n",
            "|    posted|              NaN|             NaN|ACC-1608363396|     AUD|151.22 -33.87|        PAYMENT|                 NaN|          NaN|    Robert|1705.43|java.util.Gregori...|     M| 20|            NaN|           NaN|2018-08-01T02:00:...| 163.0|1005b48a6eda4ffd8...|Australia|CUS-2688605418|              NaN|   debit|\n",
            "|authorized|              1.0|             NaN|ACC-2776252858|     AUD|144.95 -37.76|      SALES-POS|3aa18033-a0a9-419...|          NaN|   Kristin|1248.36|java.util.Gregori...|     F| 43|       Kalkallo|           VIC|2018-08-01T02:23:...| 61.06|b79ca208099c4c28a...|Australia|CUS-4123612273|    144.95 -37.53|   debit|\n",
            "|authorized|              1.0|             NaN|ACC-2776252858|     AUD|144.95 -37.76|            POS|ee58145d-26e8-4b0...|          NaN|   Kristin|1232.75|java.util.Gregori...|     F| 43|      Melbourne|           VIC|2018-08-01T04:11:...| 15.61|e1c4a50d6a0549cbb...|Australia|CUS-4123612273|    144.96 -37.81|   debit|\n",
            "|authorized|              1.0|             NaN| ACC-182446574|     AUD|116.06 -32.00|            POS|cfbf535e-caa8-499...|          NaN|     Tonya| 213.16|java.util.Gregori...|     F| 27|         Yokine|            WA|2018-08-01T04:40:...| 19.25|799e39eb2c1b41118...|Australia|CUS-3026014945|     115.85 -31.9|   debit|\n",
            "|    posted|              NaN|             NaN| ACC-602667573|     AUD|151.23 -33.96|     INTER BANK|                 NaN|          NaN|   Michael| 466.58|java.util.Gregori...|     M| 40|            NaN|           NaN|2018-08-01T06:00:...|  21.0|798a77869014441b8...|Australia|CUS-2031327464|              NaN|   debit|\n",
            "+----------+-----------------+----------------+--------------+--------+-------------+---------------+--------------------+-------------+----------+-------+--------------------+------+---+---------------+--------------+--------------------+------+--------------------+---------+--------------+-----------------+--------+\n",
            "only showing top 10 rows\n",
            "\n"
          ]
        }
      ]
    },
    {
      "cell_type": "code",
      "source": [
        "# Replace NaN with Null \n",
        "dt = dt.replace('NaN', None)"
      ],
      "metadata": {
        "id": "dTe_dxFfMFlo"
      },
      "execution_count": 61,
      "outputs": []
    },
    {
      "cell_type": "code",
      "source": [
        "# Preview\n",
        "dt.show(5)"
      ],
      "metadata": {
        "colab": {
          "base_uri": "https://localhost:8080/"
        },
        "id": "LRllKbZaMSCX",
        "outputId": "c5f7d472-a6d6-48ac-99fe-d5ff28a27292"
      },
      "execution_count": 40,
      "outputs": [
        {
          "output_type": "stream",
          "name": "stdout",
          "text": [
            "+----------+-----------------+----------------+--------------+--------+-------------+---------------+--------------------+-------------+----------+-------+--------------------+------+---+---------------+--------------+--------------------+------+--------------------+---------+--------------+-----------------+--------+\n",
            "|    status|card_present_flag|bpay_biller_code|       account|currency|     long_lat|txn_description|         merchant_id|merchant_code|first_name|balance|                date|gender|age|merchant_suburb|merchant_state|          extraction|amount|      transaction_id|  country|   customer_id|merchant_long_lat|movement|\n",
            "+----------+-----------------+----------------+--------------+--------+-------------+---------------+--------------------+-------------+----------+-------+--------------------+------+---+---------------+--------------+--------------------+------+--------------------+---------+--------------+-----------------+--------+\n",
            "|authorized|              1.0|            null|ACC-1598451071|     AUD|153.41 -27.95|            POS|81c48296-73be-44a...|         null|     Diana|  35.39|java.util.Gregori...|     F| 26|        Ashmore|           QLD|2018-08-01T01:01:...| 16.25|a623070bfead4541a...|Australia|CUS-2487424745|    153.38 -27.99|   debit|\n",
            "|authorized|              0.0|            null|ACC-1598451071|     AUD|153.41 -27.95|      SALES-POS|830a451c-316e-4a6...|         null|     Diana|   21.2|java.util.Gregori...|     F| 26|         Sydney|           NSW|2018-08-01T01:13:...| 14.19|13270a2a902145da9...|Australia|CUS-2487424745|    151.21 -33.87|   debit|\n",
            "|authorized|              1.0|            null|ACC-1222300524|     AUD|151.23 -33.94|            POS|835c231d-8cdf-4e9...|         null|   Michael|   5.71|java.util.Gregori...|     M| 38|         Sydney|           NSW|2018-08-01T01:26:...|  6.42|feb79e7ecd7048a5a...|Australia|CUS-2142601169|    151.21 -33.87|   debit|\n",
            "|authorized|              1.0|            null|ACC-1037050564|     AUD|153.10 -27.66|      SALES-POS|48514682-c78a-4a8...|         null|    Rhonda|2117.22|java.util.Gregori...|     F| 40|        Buderim|           QLD|2018-08-01T01:38:...|  40.9|2698170da3704fd98...|Australia|CUS-1614226872|    153.05 -26.68|   debit|\n",
            "|authorized|              1.0|            null|ACC-1598451071|     AUD|153.41 -27.95|      SALES-POS|b4e02c10-0852-427...|         null|     Diana|  17.95|java.util.Gregori...|     F| 26|  Mermaid Beach|           QLD|2018-08-01T01:51:...|  3.25|329adf79878c4cf0a...|Australia|CUS-2487424745|    153.44 -28.06|   debit|\n",
            "+----------+-----------------+----------------+--------------+--------+-------------+---------------+--------------------+-------------+----------+-------+--------------------+------+---+---------------+--------------+--------------------+------+--------------------+---------+--------------+-----------------+--------+\n",
            "only showing top 5 rows\n",
            "\n"
          ]
        }
      ]
    },
    {
      "cell_type": "code",
      "source": [
        "# To count how many completed data in each column \n",
        "dt.summary(\"count\").show()"
      ],
      "metadata": {
        "colab": {
          "base_uri": "https://localhost:8080/"
        },
        "id": "Sp3jGbheMlB0",
        "outputId": "ff041f77-a44e-426d-c40f-a1ad226fe111"
      },
      "execution_count": 41,
      "outputs": [
        {
          "output_type": "stream",
          "name": "stdout",
          "text": [
            "+-------+------+-----------------+----------------+-------+--------+--------+---------------+-----------+-------------+----------+-------+-----+------+-----+---------------+--------------+----------+------+--------------+-------+-----------+-----------------+--------+\n",
            "|summary|status|card_present_flag|bpay_biller_code|account|currency|long_lat|txn_description|merchant_id|merchant_code|first_name|balance| date|gender|  age|merchant_suburb|merchant_state|extraction|amount|transaction_id|country|customer_id|merchant_long_lat|movement|\n",
            "+-------+------+-----------------+----------------+-------+--------+--------+---------------+-----------+-------------+----------+-------+-----+------+-----+---------------+--------------+----------+------+--------------+-------+-----------+-----------------+--------+\n",
            "|  count| 12043|            12043|             885|  12043|   12043|   12043|          12043|       7717|          883|     12043|  12043|12043| 12043|12043|           7717|          7717|     12043| 12043|         12043|  12043|      12043|             7717|   12043|\n",
            "+-------+------+-----------------+----------------+-------+--------+--------+---------------+-----------+-------------+----------+-------+-----+------+-----+---------------+--------------+----------+------+--------------+-------+-----------+-----------------+--------+\n",
            "\n"
          ]
        }
      ]
    },
    {
      "cell_type": "code",
      "source": [
        "# check Schema again !\n",
        "dt.printSchema()"
      ],
      "metadata": {
        "colab": {
          "base_uri": "https://localhost:8080/"
        },
        "id": "0Tv8KohhDNXH",
        "outputId": "b07d4a2f-a1bc-482f-dabb-43d7ea10e896"
      },
      "execution_count": 42,
      "outputs": [
        {
          "output_type": "stream",
          "name": "stdout",
          "text": [
            "root\n",
            " |-- status: string (nullable = true)\n",
            " |-- card_present_flag: float (nullable = true)\n",
            " |-- bpay_biller_code: string (nullable = true)\n",
            " |-- account: string (nullable = true)\n",
            " |-- currency: string (nullable = true)\n",
            " |-- long_lat: string (nullable = true)\n",
            " |-- txn_description: string (nullable = true)\n",
            " |-- merchant_id: string (nullable = true)\n",
            " |-- merchant_code: string (nullable = true)\n",
            " |-- first_name: string (nullable = true)\n",
            " |-- balance: float (nullable = true)\n",
            " |-- date: string (nullable = true)\n",
            " |-- gender: string (nullable = true)\n",
            " |-- age: integer (nullable = true)\n",
            " |-- merchant_suburb: string (nullable = true)\n",
            " |-- merchant_state: string (nullable = true)\n",
            " |-- extraction: string (nullable = true)\n",
            " |-- amount: float (nullable = true)\n",
            " |-- transaction_id: string (nullable = true)\n",
            " |-- country: string (nullable = true)\n",
            " |-- customer_id: string (nullable = true)\n",
            " |-- merchant_long_lat: string (nullable = true)\n",
            " |-- movement: string (nullable = true)\n",
            "\n"
          ]
        }
      ]
    },
    {
      "cell_type": "code",
      "source": [
        "# To show number of Row and Column\n",
        "print( (dt.count(),len(dt.columns)))"
      ],
      "metadata": {
        "colab": {
          "base_uri": "https://localhost:8080/"
        },
        "id": "4nHGmciGDVYh",
        "outputId": "69577b3d-cd86-409b-cc6e-c760e45d8e3e"
      },
      "execution_count": 20,
      "outputs": [
        {
          "output_type": "stream",
          "name": "stdout",
          "text": [
            "(12043, 23)\n"
          ]
        }
      ]
    },
    {
      "cell_type": "markdown",
      "source": [
        "### 1.2 Tranform Data"
      ],
      "metadata": {
        "id": "hiYl8PXg9Q6F"
      }
    },
    {
      "cell_type": "code",
      "source": [
        "# To Filter only Status=authorized AND card_present_flag=0\n",
        "dt_filter = dt.where((dt['status'] == 'authorized') & (dt['card_present_flag'] == 0.0))\n",
        "dt_filter.show(5)"
      ],
      "metadata": {
        "colab": {
          "base_uri": "https://localhost:8080/"
        },
        "id": "h_nia5_IDoGT",
        "outputId": "268b79cc-60ed-45ac-f35c-bcb4afc3e8f5"
      },
      "execution_count": 62,
      "outputs": [
        {
          "output_type": "stream",
          "name": "stdout",
          "text": [
            "+----------+-----------------+----------------+--------------+--------+-------------+---------------+--------------------+-------------+----------+--------+--------------------+------+---+---------------+--------------+--------------------+------+--------------------+---------+--------------+-----------------+--------+\n",
            "|    status|card_present_flag|bpay_biller_code|       account|currency|     long_lat|txn_description|         merchant_id|merchant_code|first_name| balance|                date|gender|age|merchant_suburb|merchant_state|          extraction|amount|      transaction_id|  country|   customer_id|merchant_long_lat|movement|\n",
            "+----------+-----------------+----------------+--------------+--------+-------------+---------------+--------------------+-------------+----------+--------+--------------------+------+---+---------------+--------------+--------------------+------+--------------------+---------+--------------+-----------------+--------+\n",
            "|authorized|              0.0|            null|ACC-1598451071|     AUD|153.41 -27.95|      SALES-POS|830a451c-316e-4a6...|         null|     Diana|    21.2|java.util.Gregori...|     F| 26|         Sydney|           NSW|2018-08-01T01:13:...| 14.19|13270a2a902145da9...|Australia|CUS-2487424745|    151.21 -33.87|   debit|\n",
            "|authorized|              0.0|            null|ACC-2890243754|     AUD|153.32 -27.93|            POS|7e8bf667-e724-435...|         null|    Joseph|  275.93|java.util.Gregori...|     M| 37|        Lismore|           NSW|2018-08-01T08:19:...| 24.77|1f12467d33ce46098...|Australia|CUS-2695611575|    153.28 -28.81|   debit|\n",
            "|authorized|              0.0|            null|ACC-2615038700|     AUD|145.35 -38.03|            POS|354f40cb-55bc-4a8...|         null|     Emily|30583.15|java.util.Gregori...|     F| 43|     Mordialloc|           VIC|2018-08-01T08:47:...| 12.08|49417bad354f41379...|Australia|CUS-3255104878|    145.09 -38.01|   debit|\n",
            "|authorized|              0.0|            null|ACC-1710017148|     AUD|150.82 -34.01|      SALES-POS|4af25042-a1a4-468...|         null|  Michelle| 1625.34|java.util.Gregori...|     F| 19|     Alexandria|           NSW|2018-08-01T09:11:...| 11.57|82acf03790844776b...|Australia| CUS-883482547|    151.19 -33.92|   debit|\n",
            "|authorized|              0.0|            null|ACC-3485804958|     AUD|138.52 -35.01|            POS|a08935a2-99a8-49f...|         null|   Jessica|12529.59|java.util.Gregori...|     F| 34|         Findon|            SA|2018-08-01T09:19:...| 33.89|89050ee5c5aa4e79b...|Australia|CUS-1196156254|     138.53 -34.9|   debit|\n",
            "+----------+-----------------+----------------+--------------+--------+-------------+---------------+--------------------+-------------+----------+--------+--------------------+------+---+---------------+--------------+--------------------+------+--------------------+---------+--------------+-----------------+--------+\n",
            "only showing top 5 rows\n",
            "\n"
          ]
        }
      ]
    },
    {
      "cell_type": "code",
      "source": [
        "# To Split Long_Lat to  Long, Lat\n",
        "\n",
        "import pyspark.sql.functions as f\n",
        "\n",
        "split_cols = f.split(dt_filter['long_lat'], ' ')\n",
        "df1 = dt_filter.withColumn('long', split_cols.getItem(0)) \\\n",
        "        .withColumn('lat', split_cols.getItem(1)) \n",
        "\n",
        "df1.drop('long_lat').show(2)\n",
        "  "
      ],
      "metadata": {
        "colab": {
          "base_uri": "https://localhost:8080/"
        },
        "id": "LfJVa0MC6Lw1",
        "outputId": "37012821-0f1d-4dae-f0b0-525703871e4d"
      },
      "execution_count": 65,
      "outputs": [
        {
          "output_type": "stream",
          "name": "stdout",
          "text": [
            "+----------+-----------------+----------------+--------------+--------+---------------+--------------------+-------------+----------+-------+--------------------+------+---+---------------+--------------+--------------------+------+--------------------+---------+--------------+-----------------+--------+------+------+\n",
            "|    status|card_present_flag|bpay_biller_code|       account|currency|txn_description|         merchant_id|merchant_code|first_name|balance|                date|gender|age|merchant_suburb|merchant_state|          extraction|amount|      transaction_id|  country|   customer_id|merchant_long_lat|movement|  long|   lat|\n",
            "+----------+-----------------+----------------+--------------+--------+---------------+--------------------+-------------+----------+-------+--------------------+------+---+---------------+--------------+--------------------+------+--------------------+---------+--------------+-----------------+--------+------+------+\n",
            "|authorized|              0.0|            null|ACC-1598451071|     AUD|      SALES-POS|830a451c-316e-4a6...|         null|     Diana|   21.2|java.util.Gregori...|     F| 26|         Sydney|           NSW|2018-08-01T01:13:...| 14.19|13270a2a902145da9...|Australia|CUS-2487424745|    151.21 -33.87|   debit|153.41|-27.95|\n",
            "|authorized|              0.0|            null|ACC-2890243754|     AUD|            POS|7e8bf667-e724-435...|         null|    Joseph| 275.93|java.util.Gregori...|     M| 37|        Lismore|           NSW|2018-08-01T08:19:...| 24.77|1f12467d33ce46098...|Australia|CUS-2695611575|    153.28 -28.81|   debit|153.32|-27.93|\n",
            "+----------+-----------------+----------------+--------------+--------+---------------+--------------------+-------------+----------+-------+--------------------+------+---+---------------+--------------+--------------------+------+--------------------+---------+--------------+-----------------+--------+------+------+\n",
            "only showing top 2 rows\n",
            "\n"
          ]
        }
      ]
    },
    {
      "cell_type": "code",
      "source": [
        "# To Split Merchant_Long_Lat to  merch_long, merch_lat \n",
        "\n",
        "split_cols_mer = f.split(df1['merchant_long_lat'], ' ')\n",
        "df = df1.withColumn('merch_long', split_cols_mer.getItem(0)) \\\n",
        "    .withColumn('merch_lat', split_cols_mer.getItem(1))\n",
        "\n",
        "df.drop('merchant_long_lat').show(2)"
      ],
      "metadata": {
        "colab": {
          "base_uri": "https://localhost:8080/"
        },
        "id": "PzvWfg4xFE6C",
        "outputId": "3cd9a4b9-0ea3-427c-dc1e-c2bbb823842c"
      },
      "execution_count": 67,
      "outputs": [
        {
          "output_type": "stream",
          "name": "stdout",
          "text": [
            "+----------+-----------------+----------------+--------------+--------+-------------+---------------+--------------------+-------------+----------+-------+--------------------+------+---+---------------+--------------+--------------------+------+--------------------+---------+--------------+--------+------+------+----------+---------+\n",
            "|    status|card_present_flag|bpay_biller_code|       account|currency|     long_lat|txn_description|         merchant_id|merchant_code|first_name|balance|                date|gender|age|merchant_suburb|merchant_state|          extraction|amount|      transaction_id|  country|   customer_id|movement|  long|   lat|merch_long|merch_lat|\n",
            "+----------+-----------------+----------------+--------------+--------+-------------+---------------+--------------------+-------------+----------+-------+--------------------+------+---+---------------+--------------+--------------------+------+--------------------+---------+--------------+--------+------+------+----------+---------+\n",
            "|authorized|              0.0|            null|ACC-1598451071|     AUD|153.41 -27.95|      SALES-POS|830a451c-316e-4a6...|         null|     Diana|   21.2|java.util.Gregori...|     F| 26|         Sydney|           NSW|2018-08-01T01:13:...| 14.19|13270a2a902145da9...|Australia|CUS-2487424745|   debit|153.41|-27.95|    151.21|   -33.87|\n",
            "|authorized|              0.0|            null|ACC-2890243754|     AUD|153.32 -27.93|            POS|7e8bf667-e724-435...|         null|    Joseph| 275.93|java.util.Gregori...|     M| 37|        Lismore|           NSW|2018-08-01T08:19:...| 24.77|1f12467d33ce46098...|Australia|CUS-2695611575|   debit|153.32|-27.93|    153.28|   -28.81|\n",
            "+----------+-----------------+----------------+--------------+--------+-------------+---------------+--------------------+-------------+----------+-------+--------------------+------+---+---------------+--------------+--------------------+------+--------------------+---------+--------------+--------+------+------+----------+---------+\n",
            "only showing top 2 rows\n",
            "\n"
          ]
        }
      ]
    },
    {
      "cell_type": "markdown",
      "source": [
        "### 1.3 Save to CSV. file"
      ],
      "metadata": {
        "id": "2YxSSF_kHdOh"
      }
    },
    {
      "cell_type": "code",
      "source": [
        "# save in Partitioned Files (Use Multiple Worker)\n",
        "df.write.csv('anz_task3.csv', header= True)"
      ],
      "metadata": {
        "id": "aCT0vP8YIz0R"
      },
      "execution_count": null,
      "outputs": []
    },
    {
      "cell_type": "code",
      "source": [
        "# forced write to 1 files in csv.\n",
        "df.coalesce(1).write.csv('anz_task3_allparts.csv', header= True)"
      ],
      "metadata": {
        "id": "CDIzqQPmHiLT"
      },
      "execution_count": 70,
      "outputs": []
    }
  ]
}